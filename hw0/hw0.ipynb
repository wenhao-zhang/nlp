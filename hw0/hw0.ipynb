{
 "cells": [
  {
   "cell_type": "markdown",
   "metadata": {},
   "source": [
    "The relationship between the left column and right column, is n^2. The vertical symobls represent 1. So six of them together would represent 6. The horizontal symbol represents a unit of 10. Two of them together would be 20. The Babylonian system is base 60. This means when you reach 59, you go back to counting in ones. So the number represented by 1 vertical symbol followed by 4 vertical symbol would be 64. The number to the left of this number is 8 vertical symbols, which represents 8. The one horizontal symbol reprsents 10 in the left column. The right column has 1 vertical symbol, followed by 4 horizontal symbols. The number would be 100. Following similar steps we can convert the reset of the numbers to base 10. The pattern that emerges after doing this is n^2."
   ]
  },
  {
   "cell_type": "code",
   "execution_count": 2,
   "metadata": {
    "collapsed": false
   },
   "outputs": [
    {
     "name": "stdout",
     "output_type": "stream",
     "text": [
      "36\n",
      "49\n",
      "64\n",
      "81\n",
      "100\n",
      "121\n",
      "144\n",
      "169\n",
      "196\n",
      "225\n",
      "256\n"
     ]
    }
   ],
   "source": [
    "def foo(n):\n",
    "    return n**2\n",
    "\n",
    "for i in range(6,17):\n",
    "    print(foo(i))"
   ]
  },
  {
   "cell_type": "code",
   "execution_count": null,
   "metadata": {
    "collapsed": true
   },
   "outputs": [],
   "source": []
  }
 ],
 "metadata": {
  "kernelspec": {
   "display_name": "Python 3",
   "language": "python",
   "name": "python3"
  },
  "language_info": {
   "codemirror_mode": {
    "name": "ipython",
    "version": 3
   },
   "file_extension": ".py",
   "mimetype": "text/x-python",
   "name": "python",
   "nbconvert_exporter": "python",
   "pygments_lexer": "ipython3",
   "version": "3.5.2"
  }
 },
 "nbformat": 4,
 "nbformat_minor": 2
}
